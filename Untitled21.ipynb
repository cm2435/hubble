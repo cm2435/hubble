{
  "nbformat": 4,
  "nbformat_minor": 0,
  "metadata": {
    "colab": {
      "name": "Untitled21.ipynb",
      "provenance": [],
      "authorship_tag": "ABX9TyNeMbg24oOG04ADAhBogrIn"
    },
    "kernelspec": {
      "name": "python3",
      "display_name": "Python 3"
    }
  },
  "cells": [
    {
      "cell_type": "code",
      "metadata": {
        "id": "73ZonWEuBD1p"
      },
      "source": [
        "import pandas as pd \r\n",
        "import numpy as np\r\n",
        "import seaborn as sns \r\n",
        "from sklearn.model_selection import train_test_split\r\n",
        "from sklearn.preprocessing import MinMaxScaler\r\n",
        "\r\n",
        "df = (pd.read_csv('/content/freedman.txt',skiprows=0,delimiter = '\t'))\r\n",
        "df.head()\r\n",
        "\r\n",
        "\r\n",
        "#sns.pairplot(df)\r\n",
        "\r\n",
        "\r\n",
        "X= df[['Do(Mpc)', 'V_LG(km/s)']].values\r\n",
        "y= df['V_Virgo(km/s)'].values \r\n",
        "\r\n",
        "X_train, X_test, y_train, y_test = train_test_split(X, y, test_size=0.3, random_state=42)\r\n",
        "\r\n",
        "X_train.shape\r\n",
        "X_test.shape\r\n",
        "\r\n",
        "#help(MinMaxScaler)\r\n",
        "\r\n",
        "scaler = MinMaxScaler()\r\n",
        "scaler.fit(X_train)\r\n",
        "\r\n",
        "X_train = scaler.transform(X_train)\r\n",
        "X_test = scaler.transform(X_test)\r\n",
        "\r\n",
        "\r\n"
      ],
      "execution_count": 6,
      "outputs": []
    },
    {
      "cell_type": "code",
      "metadata": {
        "colab": {
          "base_uri": "https://localhost:8080/",
          "height": 293
        },
        "id": "TUgXNduQBOXh",
        "outputId": "62a7d185-9f7a-4dcb-d07f-7447730dcbcd"
      },
      "source": [
        "from tensorflow.keras.models import Sequential\r\n",
        "from tensorflow.keras.layers import Dense \r\n",
        "\r\n",
        "\r\n",
        "model = Sequential()\r\n",
        "\r\n",
        "model.add(Dense(10, activation='relu'))\r\n",
        "model.add(Dense(10, activation='relu'))\r\n",
        "model.add(Dense(10, activation='relu'))\r\n",
        "\r\n",
        "model.add(Dense(1))\r\n",
        "\r\n",
        "model.compile(optimizer='rmsprop', loss='mse')\r\n",
        "\r\n",
        "model.fit(x=X_train, y=y_train, epochs=250, verbose=0)\r\n",
        "\r\n",
        "loss_df = pd.DataFrame(model.history.history)\r\n",
        "loss_df.plot()\r\n",
        "\r\n",
        "\r\n"
      ],
      "execution_count": 7,
      "outputs": [
        {
          "output_type": "execute_result",
          "data": {
            "text/plain": [
              "<matplotlib.axes._subplots.AxesSubplot at 0x7f267fbf42b0>"
            ]
          },
          "metadata": {
            "tags": []
          },
          "execution_count": 7
        },
        {
          "output_type": "display_data",
          "data": {
            "image/png": "[encoded data removed]",
            "text/plain": [
              "<Figure size 432x288 with 1 Axes>"
            ]
          },
          "metadata": {
            "tags": [],
            "needs_background": "light"
          }
        }
      ]
    },
    {
      "cell_type": "code",
      "metadata": {
        "colab": {
          "base_uri": "https://localhost:8080/",
          "height": 334
        },
        "id": "iHdegz4BBRxd",
        "outputId": "0ba18395-af96-4642-d82a-ad8ba99960b8"
      },
      "source": [
        "\r\n",
        "#Evaluation \r\n",
        "\r\n",
        "model.evaluate(X_test, y_test, verbose=1)\r\n",
        "model.evaluate(X_train,y_train, verbose=1)\r\n",
        "\r\n",
        "test_predictions = model.predict(X_test)\r\n",
        "\r\n",
        "\r\n",
        "test_predictions = pd.Series(test_predictions.reshape(8,))\r\n",
        "\r\n",
        "pred_df = pd.DataFrame(y_test,columns=['Test True y'])\r\n",
        "pred_df = pd.concat([pred_df, test_predictions], axis=1)\r\n",
        "pred_df.columns = ['Test true y', 'Model Predictions']\r\n",
        "\r\n",
        "sns.scatterplot(x='Test true y', y='Model Predictions', data=pred_df)\r\n",
        "\r\n",
        "\r\n"
      ],
      "execution_count": 13,
      "outputs": [
        {
          "output_type": "stream",
          "text": [
            "1/1 [==============================] - 0s 2ms/step - loss: 872038.8750\n",
            "1/1 [==============================] - 0s 2ms/step - loss: 1046069.6875\n"
          ],
          "name": "stdout"
        },
        {
          "output_type": "execute_result",
          "data": {
            "text/plain": [
              "<matplotlib.axes._subplots.AxesSubplot at 0x7f267d20ac88>"
            ]
          },
          "metadata": {
            "tags": []
          },
          "execution_count": 13
        },
        {
          "output_type": "display_data",
          "data": {
            "image/png": "[encoded data removed]",
            "text/plain": [
              "<Figure size 432x288 with 1 Axes>"
            ]
          },
          "metadata": {
            "tags": [],
            "needs_background": "light"
          }
        }
      ]
    },
    {
      "cell_type": "code",
      "metadata": {
        "colab": {
          "base_uri": "https://localhost:8080/"
        },
        "id": "oX6BjumrDvKz",
        "outputId": "70b694a3-2e6f-4919-8128-6a73d7606487"
      },
      "source": [
        "\r\n",
        "from sklearn.metrics import mean_absolute_error, mean_squared_error\r\n",
        "MAE = mean_absolute_error(pred_df['Test true y'], pred_df['Model Predictions']) \r\n",
        "MSE = mean_squared_error(pred_df['Test true y'], pred_df['Model Predictions']) \r\n",
        "RMSE= MSE**0.5\r\n",
        "\r\n",
        "new_Gem = [[998,1000]]\r\n",
        "new_Gem = scaler.transform(new_Gem)\r\n",
        "model.predict(new_Gem)\r\n",
        "  "
      ],
      "execution_count": 12,
      "outputs": [
        {
          "output_type": "execute_result",
          "data": {
            "text/plain": [
              "array([[551.76715]], dtype=float32)"
            ]
          },
          "metadata": {
            "tags": []
          },
          "execution_count": 12
        }
      ]
    },
    {
      "cell_type": "markdown",
      "metadata": {
        "id": "fjAy7yxEEOsP"
      },
      "source": [
        ""
      ]
    },
    {
      "cell_type": "code",
      "metadata": {
        "id": "PNCI6kc_D_P2"
      },
      "source": [
        "\r\n",
        "model.save('my_gem_model.h5')\r\n",
        "\r\n",
        "from tensorflow.keras.models import load_model \r\n",
        "\r\n",
        "later_model= load_model('my_gem_model.h5')"
      ],
      "execution_count": null,
      "outputs": []
    }
  ]
}